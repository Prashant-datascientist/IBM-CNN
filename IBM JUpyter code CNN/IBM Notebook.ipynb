{
 "cells": [
  {
   "cell_type": "code",
   "execution_count": null,
   "id": "65d80d61",
   "metadata": {},
   "outputs": [],
   "source": [
    "pwd"
   ]
  },
  {
   "cell_type": "code",
   "execution_count": null,
   "id": "8905f954",
   "metadata": {},
   "outputs": [],
   "source": [
    "!pip install keras==2.2.4\n",
    "!pip install tensorflow==2.6.0"
   ]
  },
  {
   "cell_type": "code",
   "execution_count": null,
   "id": "070a7732",
   "metadata": {},
   "outputs": [],
   "source": [
    "from keras.preprocessing.image import ImageDataGenerator\n",
    "from keras.models import Sequential\n",
    "from keras.layers import Conv2D, MaxPooling2D, Dense, Dropout, Flatten\n",
    "from keras.layers import MaxPooling2D"
   ]
  },
  {
   "cell_type": "code",
   "execution_count": null,
   "id": "72051227",
   "metadata": {},
   "outputs": [],
   "source": [
    "from keras.preprocessing.image import ImageDataGenerator\n",
    "train_datagen = ImageDataGenerator(rescale = 1./255,\n",
    "                                   shear_range = 0.2,\n",
    "                                   zoom_range = 0.2,\n",
    "                                   horizontal_flip = True)\n",
    "\n",
    "test_datagen = ImageDataGenerator(rescale = 1./255)"
   ]
  },
  {
   "cell_type": "code",
   "execution_count": null,
   "id": "bea0e9dc",
   "metadata": {},
   "outputs": [],
   "source": [
    "import os, types\n",
    "import pandas as pd\n",
    "from botocore.client import Config\n",
    "import ibm_boto3\n",
    "\n",
    "def __iter__(self): return 0\n",
    "\n",
    "# @hidden_cell\n",
    "# The following code accesses a file in your IBM Cloud Object Storage. It includes your credentials.\n",
    "# You might want to remove those credentials before you share the notebook.\n",
    "\n",
    "if os.environ.get('RUNTIME_ENV_LOCATION_TYPE') == 'external':\n",
    "    endpoint_da259d9bd31c4be3b14760384dcca5e9 = 'https://s3.us.cloud-object-storage.appdomain.cloud'\n",
    "else:\n",
    "    endpoint_da259d9bd31c4be3b14760384dcca5e9 = 'https://s3.private.us.cloud-object-storage.appdomain.cloud'\n",
    "\n",
    "client_da259d9bd31c4be3b14760384dcca5e9 = ibm_boto3.client(service_name='s3',\n",
    "    ibm_api_key_id='ZKX_GO0XQV9_8khWZeAYKLc-1jhi6rTfyFa-WeAOk69Z',\n",
    "    ibm_auth_endpoint=\"https://iam.cloud.ibm.com/oidc/token\",\n",
    "    config=Config(signature_version='oauth'),\n",
    "    endpoint_url=endpoint_da259d9bd31c4be3b14760384dcca5e9)\n",
    "\n",
    "streaming_body_1 = client_da259d9bd31c4be3b14760384dcca5e9.get_object(Bucket='icebergdetection-donotdelete-pr-bb7ad9vhmeqyci', Key='Iceberg Detection dataset.zip')['Body']\n",
    "\n",
    "# Your data file was loaded into a botocore.response.StreamingBody object.\n",
    "# Please read the documentation of ibm_boto3 and pandas to learn more about the possibilities to load the data.\n",
    "# ibm_boto3 documentation: https://ibm.github.io/ibm-cos-sdk-python/\n",
    "# pandas documentation: http://pandas.pydata.org/"
   ]
  },
  {
   "cell_type": "code",
   "execution_count": null,
   "id": "60df9ad5",
   "metadata": {},
   "outputs": [],
   "source": [
    "from io import BytesIO\n",
    "import zipfile\n",
    "unzip = zipfile.ZipFile(BytesIO(streaming_body_1.read()),'r')\n",
    "file_paths = unzip.namelist()\n",
    "for path in file_paths:\n",
    "    unzip.extract(path)"
   ]
  },
  {
   "cell_type": "code",
   "execution_count": null,
   "id": "5d8379f0",
   "metadata": {},
   "outputs": [],
   "source": [
    "pwd"
   ]
  },
  {
   "cell_type": "code",
   "execution_count": null,
   "id": "228a1901",
   "metadata": {},
   "outputs": [],
   "source": [
    "import os\n",
    "filenames = os.listdir('/home/wsuser/work/Iceberg Detection dataset/dataset/train')"
   ]
  },
  {
   "cell_type": "code",
   "execution_count": null,
   "id": "efe2b325",
   "metadata": {},
   "outputs": [],
   "source": [
    "x_train = train_datagen.flow_from_directory(r'/home/wsuser/work/Iceberg Detection dataset/dataset/train',target_size=(75,75),batch_size= 32, class_mode='binary')\n",
    "x_test = test_datagen.flow_from_directory(r'/home/wsuser/work/Iceberg Detection dataset/dataset/test',target_size=(75,75),batch_size= 32, class_mode='binary')"
   ]
  },
  {
   "cell_type": "code",
   "execution_count": null,
   "id": "bbac3e8f",
   "metadata": {},
   "outputs": [],
   "source": [
    "model=Sequential()"
   ]
  },
  {
   "cell_type": "code",
   "execution_count": null,
   "id": "9024bfe6",
   "metadata": {},
   "outputs": [],
   "source": [
    "model.add(Conv2D(64,(3,3), activation='relu', input_shape=(75,75,3)))"
   ]
  },
  {
   "cell_type": "code",
   "execution_count": null,
   "id": "ada39e52",
   "metadata": {},
   "outputs": [],
   "source": [
    "model.add(MaxPooling2D(pool_size=(3,3), strides=(2,2)))"
   ]
  },
  {
   "cell_type": "code",
   "execution_count": null,
   "id": "bb98d6e4",
   "metadata": {},
   "outputs": [],
   "source": [
    "model.add(Flatten())"
   ]
  },
  {
   "cell_type": "code",
   "execution_count": null,
   "id": "20a52311",
   "metadata": {},
   "outputs": [],
   "source": [
    "model.add(Dense(units= 512, kernel_initializer=\"uniform\", activation=\"relu\"))\n",
    "model.add(Dense(units = 256, kernel_initializer=\"uniform\", activation=\"relu\"))\n",
    "model.add(Dense(units = 1, kernel_initializer=\"uniform\", activation=\"sigmoid\"))"
   ]
  },
  {
   "cell_type": "code",
   "execution_count": null,
   "id": "799cade1",
   "metadata": {},
   "outputs": [],
   "source": [
    "model.compile(loss=\"binary_crossentropy\",optimizer=\"adam\",metrics=[\"accuracy\"])"
   ]
  },
  {
   "cell_type": "code",
   "execution_count": null,
   "id": "d3fe67e2",
   "metadata": {},
   "outputs": [],
   "source": [
    "model.fit_generator(x_train,steps_per_epoch=40, epochs= 10, validation_data=x_test, validation_steps=10)"
   ]
  },
  {
   "cell_type": "code",
   "execution_count": null,
   "id": "79de94ab",
   "metadata": {},
   "outputs": [],
   "source": [
    "model.save(\"iceberg.h5\")"
   ]
  },
  {
   "cell_type": "code",
   "execution_count": null,
   "id": "d9ff3a57",
   "metadata": {},
   "outputs": [],
   "source": [
    "!tar -zcvf image-classification-model_new.tgz iceberg.h5"
   ]
  },
  {
   "cell_type": "code",
   "execution_count": null,
   "id": "c484ce61",
   "metadata": {},
   "outputs": [],
   "source": [
    "ls -1"
   ]
  },
  {
   "cell_type": "code",
   "execution_count": null,
   "id": "0685555a",
   "metadata": {},
   "outputs": [],
   "source": [
    "!pip install watson-machine-learning-client --upgrade"
   ]
  },
  {
   "cell_type": "code",
   "execution_count": null,
   "id": "41d2d1b6",
   "metadata": {},
   "outputs": [],
   "source": [
    "from ibm_watson_machine_learning import APIClient\n",
    "wml_credentials = {\n",
    "                    \"url\": \"https://us-south.ml.cloud.ibm.com\",\n",
    "                    \"apikey\":\"5wyIz3tUi45QyVxwp6msPJ-vusw7ovWgj0iz8P0JOpop\"\n",
    "                  }\n",
    "\n",
    "client = APIClient(wml_credentials)"
   ]
  },
  {
   "cell_type": "code",
   "execution_count": null,
   "id": "97b13b61",
   "metadata": {},
   "outputs": [],
   "source": [
    "client = APIClient(wml_credentials)"
   ]
  },
  {
   "cell_type": "code",
   "execution_count": null,
   "id": "33b179c9",
   "metadata": {},
   "outputs": [],
   "source": [
    "def guid_from_space_name(client, space_name):\n",
    "    space = client.spaces.get_details()\n",
    "    #print(space)\n",
    "    return(next(item for item in space['resources'] if item['entity'][\"name\"] == space_name)['metadata']['id'])"
   ]
  },
  {
   "cell_type": "code",
   "execution_count": null,
   "id": "7abeb242",
   "metadata": {},
   "outputs": [],
   "source": [
    "space_uid = guid_from_space_name(client, 'iceberg_detection_deploy')\n",
    "print(\"Space UID = \" + space_uid)"
   ]
  },
  {
   "cell_type": "code",
   "execution_count": null,
   "id": "473ca27c",
   "metadata": {},
   "outputs": [],
   "source": [
    "client.set.default_space(space_uid)"
   ]
  },
  {
   "cell_type": "code",
   "execution_count": null,
   "id": "59c6e94a",
   "metadata": {},
   "outputs": [],
   "source": [
    "client.software_specifications.list()"
   ]
  },
  {
   "cell_type": "code",
   "execution_count": null,
   "id": "2e4fbaa8",
   "metadata": {},
   "outputs": [],
   "source": [
    "software_spec_uid = client.software_specifications.get_uid_by_name(\"tensorflow_1.15-py3.6\")\n",
    "software_spec_uid"
   ]
  },
  {
   "cell_type": "code",
   "execution_count": null,
   "id": "bb4db774",
   "metadata": {},
   "outputs": [],
   "source": [
    "model_details = client.repository.store_model(model='image-classification-model_new.tgz',meta_props={\n",
    "    client.repository.ModelMetaNames.NAME:\"CNN\",\n",
    "    client.repository.ModelMetaNames.TYPE:\"keras_2.2.4\",\n",
    "    client.repository.ModelMetaNames.SOFTWARE_SPEC_UID:software_spec_uid})\n",
    "\n",
    "model_id = client.repository.get_model_uid(model_details)"
   ]
  },
  {
   "cell_type": "code",
   "execution_count": null,
   "id": "038c91a0",
   "metadata": {},
   "outputs": [],
   "source": [
    "model_id"
   ]
  },
  {
   "cell_type": "code",
   "execution_count": null,
   "id": "697ce17b",
   "metadata": {},
   "outputs": [],
   "source": [
    "client.repository.download(model_id, 'my_models.tar.gz')"
   ]
  },
  {
   "cell_type": "code",
   "execution_count": null,
   "id": "d51d3bff",
   "metadata": {},
   "outputs": [],
   "source": [
    "from keras.models import load_model\n",
    "from keras.preprocessing import image"
   ]
  },
  {
   "cell_type": "code",
   "execution_count": null,
   "id": "ade0d348",
   "metadata": {},
   "outputs": [],
   "source": [
    "model = load_model(\"iceberg.h5\")"
   ]
  },
  {
   "cell_type": "code",
   "execution_count": null,
   "id": "78c29b5d",
   "metadata": {},
   "outputs": [],
   "source": [
    "streaming_body_11 = client_da259d9bd31c4be3b14760384dcca5e9.get_object(Bucket='icebergdetection-donotdelete-pr-bb7ad9vhmeqyci', Key='f213.png')['Body']\n",
    "\n",
    "# Your data file was loaded into a botocore.response.StreamingBody object.\n",
    "# Please read the documentation of ibm_boto3 and pandas to learn more about the possibilities to load the data.\n",
    "# ibm_boto3 documentation: https://ibm.github.io/ibm-cos-sdk-python/\n",
    "# pandas documentation: http://pandas.pydata.org/\n",
    "image = image.load_img(streaming_body_11, target_size = (128,128))"
   ]
  },
  {
   "cell_type": "code",
   "execution_count": null,
   "id": "3ae78676",
   "metadata": {},
   "outputs": [],
   "source": [
    "import tensorflow\n",
    "tensorflow.__version__"
   ]
  },
  {
   "cell_type": "code",
   "execution_count": null,
   "id": "08c16cad",
   "metadata": {},
   "outputs": [],
   "source": [
    "x_train.class_indices"
   ]
  },
  {
   "cell_type": "code",
   "execution_count": null,
   "id": "ee674dca",
   "metadata": {},
   "outputs": [],
   "source": []
  },
  {
   "cell_type": "code",
   "execution_count": null,
   "id": "e189024b",
   "metadata": {},
   "outputs": [],
   "source": []
  },
  {
   "cell_type": "code",
   "execution_count": null,
   "id": "87a906e8",
   "metadata": {},
   "outputs": [],
   "source": []
  }
 ],
 "metadata": {
  "kernelspec": {
   "display_name": "Python 3 (ipykernel)",
   "language": "python",
   "name": "python3"
  },
  "language_info": {
   "codemirror_mode": {
    "name": "ipython",
    "version": 3
   },
   "file_extension": ".py",
   "mimetype": "text/x-python",
   "name": "python",
   "nbconvert_exporter": "python",
   "pygments_lexer": "ipython3",
   "version": "3.8.10"
  }
 },
 "nbformat": 4,
 "nbformat_minor": 5
}
